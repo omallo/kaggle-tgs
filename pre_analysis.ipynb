{
 "cells": [
  {
   "cell_type": "code",
   "execution_count": null,
   "metadata": {},
   "outputs": [],
   "source": [
    "import random\n",
    "\n",
    "import cv2\n",
    "import matplotlib.pyplot as plt\n",
    "import numpy as np\n",
    "from skimage import measure\n",
    "from torch.utils.data import DataLoader\n",
    "\n",
    "from dataset import TrainData, TrainDataset\n",
    "from processing import calculate_contour"
   ]
  },
  {
   "cell_type": "code",
   "execution_count": null,
   "metadata": {},
   "outputs": [],
   "source": [
    "input_dir = \"../salt/input\"\n",
    "output_dir = \".\"\n",
    "img_size_original = 101\n",
    "image_size_target = 128\n",
    "batch_size = 32"
   ]
  },
  {
   "cell_type": "code",
   "execution_count": null,
   "metadata": {},
   "outputs": [],
   "source": [
    "train_data = TrainData(input_dir)"
   ]
  },
  {
   "cell_type": "code",
   "execution_count": null,
   "metadata": {},
   "outputs": [],
   "source": [
    "df = train_data.train_set_df"
   ]
  },
  {
   "cell_type": "code",
   "execution_count": null,
   "metadata": {
    "scrolled": false
   },
   "outputs": [],
   "source": [
    "train_set = TrainDataset(df, image_size_target, augment=True)\n",
    "train_set_data_loader = DataLoader(train_set, batch_size=batch_size, shuffle=True)"
   ]
  },
  {
   "cell_type": "markdown",
   "metadata": {},
   "source": [
    "# Data augmentations"
   ]
  },
  {
   "cell_type": "code",
   "execution_count": null,
   "metadata": {
    "scrolled": false
   },
   "outputs": [],
   "source": [
    "nrows = 10\n",
    "ncols = 5\n",
    "fig, axs = plt.subplots(nrows, ncols, figsize=(20, int(nrows / ncols) * 20))\n",
    "for r in range(nrows):\n",
    "    original_image = df.images[r]\n",
    "    original_mask = df.masks[r]\n",
    "    original_mask_contours = calculate_contour(original_mask)\n",
    "    axs[r, 0].imshow(original_image, cmap=\"gray\")\n",
    "    axs[r, 0].imshow(original_mask, cmap=\"Greens\", alpha=0.3)\n",
    "    axs[r, 0].imshow(original_mask_contours, cmap=\"Reds\", alpha=0.3)\n",
    "    axs[r, 0].set_xticklabels([])\n",
    "    axs[r, 0].set_yticklabels([])\n",
    "    for c in range(1, ncols):\n",
    "        train_item = train_set[r]\n",
    "        augmented_image = train_item[0]\n",
    "        augmented_mask = train_item[1].squeeze()\n",
    "        augmented_mask_contours = calculate_contour(augmented_mask.squeeze())\n",
    "        axs[r, c].imshow(augmented_image[0], cmap=\"gray\")\n",
    "        axs[r, c].imshow(augmented_mask, cmap=\"Greens\", alpha=0.3)\n",
    "        axs[r, c].imshow(augmented_mask_contours, cmap=\"Reds\", alpha=0.3)\n",
    "        axs[r, c].set_xticklabels([])\n",
    "        axs[r, c].set_yticklabels([])"
   ]
  },
  {
   "cell_type": "markdown",
   "metadata": {},
   "source": [
    "# Connected components"
   ]
  },
  {
   "cell_type": "code",
   "execution_count": null,
   "metadata": {},
   "outputs": [],
   "source": [
    "df[\"components_count\"] = df.masks.map(np.array).map(measure.label).map(np.unique).map(len)"
   ]
  },
  {
   "cell_type": "code",
   "execution_count": null,
   "metadata": {},
   "outputs": [],
   "source": [
    "ncols = 8\n",
    "nrows = 8\n",
    "ncells = ncols * nrows\n",
    "fig, axs = plt.subplots(nrows, ncols, figsize=(20, int(20 * nrows / ncols)))\n",
    "target_ids = df.index[(df.components_count == 2) & (df.coverage_class <= 4)]\n",
    "random_image_indexes = random.sample(range(len(target_ids)), min(ncells, len(target_ids)))\n",
    "for i, idx in enumerate(target_ids[random_image_indexes]):\n",
    "    image = df.loc[idx].images\n",
    "    mask = df.loc[idx].masks\n",
    "    ax = axs[int(i / ncols), i % ncols]\n",
    "    ax.imshow(image, cmap=\"gray\")\n",
    "    ax.imshow(mask, alpha=0.3, cmap=\"Greens\")\n",
    "    ax.text(1, img_size_original - 1, df.loc[idx].z, color=\"black\")\n",
    "    ax.set_xticklabels([])\n",
    "    ax.set_yticklabels([])"
   ]
  },
  {
   "cell_type": "markdown",
   "metadata": {},
   "source": [
    "# GLCM"
   ]
  },
  {
   "cell_type": "code",
   "execution_count": null,
   "metadata": {
    "scrolled": false
   },
   "outputs": [],
   "source": [
    "ncols = 6\n",
    "nrows = 10\n",
    "ncells = ncols * nrows\n",
    "fig, axs = plt.subplots(nrows, ncols, figsize=(20, int(20 * nrows / ncols)))\n",
    "target_ids = df.index\n",
    "random_image_indexes = random.sample(range(len(target_ids)), min(nrows, len(target_ids)))\n",
    "for i, idx in enumerate(target_ids[random_image_indexes]):\n",
    "    image = df.loc[idx].images\n",
    "    mask = df.loc[idx].masks\n",
    "    glcm_contrast = cv2.imread(\"../salt/input/train/glcm/contrast-0/{}.png\".format(idx))\n",
    "    glcm_dissimilarity = cv2.imread(\"../salt/input/train/glcm/dissimilarity-0/{}.png\".format(idx))\n",
    "    glcm_energy = cv2.imread(\"../salt/input/train/glcm/energy-0/{}.png\".format(idx))\n",
    "    glcm_homogeneity = cv2.imread(\"../salt/input/train/glcm/homogeneity-0/{}.png\".format(idx))\n",
    "    axs[i, 0].imshow(image, cmap=\"gray\")\n",
    "    axs[i, 1].imshow(mask, cmap=\"gray\")\n",
    "    axs[i, 2].imshow(glcm_contrast, cmap=\"gray\")\n",
    "    axs[i, 3].imshow(glcm_dissimilarity, cmap=\"gray\")\n",
    "    axs[i, 4].imshow(glcm_energy, cmap=\"gray\")\n",
    "    axs[i, 5].imshow(glcm_homogeneity, cmap=\"gray\")\n",
    "for ax in axs.flatten():\n",
    "    ax.set_xticklabels([])\n",
    "    ax.set_yticklabels([])"
   ]
  },
  {
   "cell_type": "code",
   "execution_count": null,
   "metadata": {},
   "outputs": [],
   "source": []
  }
 ],
 "metadata": {
  "kernelspec": {
   "display_name": "Python 3",
   "language": "python",
   "name": "python3"
  },
  "language_info": {
   "codemirror_mode": {
    "name": "ipython",
    "version": 3
   },
   "file_extension": ".py",
   "mimetype": "text/x-python",
   "name": "python",
   "nbconvert_exporter": "python",
   "pygments_lexer": "ipython3",
   "version": "3.6.5"
  }
 },
 "nbformat": 4,
 "nbformat_minor": 2
}
